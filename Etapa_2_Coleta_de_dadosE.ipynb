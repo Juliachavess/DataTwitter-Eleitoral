{
  "nbformat": 4,
  "nbformat_minor": 0,
  "metadata": {
    "colab": {
      "name": "Etapa 2 - Coleta de dadosE.ipynb",
      "provenance": [],
      "authorship_tag": "ABX9TyPpeaex2a9yb74smny2CT9h",
      "include_colab_link": true
    },
    "kernelspec": {
      "name": "python3",
      "display_name": "Python 3"
    },
    "language_info": {
      "name": "python"
    }
  },
  "cells": [
    {
      "cell_type": "markdown",
      "metadata": {
        "id": "view-in-github",
        "colab_type": "text"
      },
      "source": [
        "<a href=\"https://colab.research.google.com/github/Juliachavess/DataTwitter-Eleitoral/blob/main/Etapa_2_Coleta_de_dadosE.ipynb\" target=\"_parent\"><img src=\"https://colab.research.google.com/assets/colab-badge.svg\" alt=\"Open In Colab\"/></a>"
      ]
    },
    {
      "cell_type": "markdown",
      "source": [
        "# Apresentação do projeto"
      ],
      "metadata": {
        "id": "LSOokRMurbcb"
      }
    },
    {
      "cell_type": "markdown",
      "source": [
        "Instalando bibliotecas"
      ],
      "metadata": {
        "id": "f81GkFECbcKH"
      }
    },
    {
      "cell_type": "code",
      "source": [
        "pip install snscrape"
      ],
      "metadata": {
        "id": "wesFKD2xbSbV"
      },
      "execution_count": null,
      "outputs": []
    },
    {
      "cell_type": "markdown",
      "source": [
        "# Lula"
      ],
      "metadata": {
        "id": "zPt_hT3yf3-I"
      }
    },
    {
      "cell_type": "code",
      "source": [
        "#importando as biliotecas\n",
        "import snscrape.modules.twitter as sntwitter\n",
        "import pandas as pd"
      ],
      "metadata": {
        "id": "CvfC36MWbfAe"
      },
      "execution_count": 11,
      "outputs": []
    },
    {
      "cell_type": "code",
      "execution_count": 12,
      "metadata": {
        "id": "QhOPru9rIv8Z"
      },
      "outputs": [],
      "source": [
        "maximo_tweets = 50\n",
        "lista_lula = []\n",
        "\n",
        "for i, tweet in enumerate(sntwitter.TwitterSearchScraper({'lula'}).get_items()):\n",
        "  if i > maximo_tweets:\n",
        "    break\n",
        "  lista_lula.append([tweet.date, tweet.id, tweet.content])\n"
      ]
    },
    {
      "cell_type": "code",
      "source": [
        "dataframe_lula = pd.DataFrame(lista_lula, columns=['Data_Hora','IdTweet', 'Tweet'])"
      ],
      "metadata": {
        "id": "JGKjzthPeN7R"
      },
      "execution_count": 14,
      "outputs": []
    },
    {
      "cell_type": "code",
      "source": [
        "dataframe_lula['Candidato'] = 'Lula'"
      ],
      "metadata": {
        "id": "plZq7IA_fgJp"
      },
      "execution_count": 16,
      "outputs": []
    },
    {
      "cell_type": "markdown",
      "source": [
        "# Bolsonaro"
      ],
      "metadata": {
        "id": "-C5jey_Ef8aw"
      }
    },
    {
      "cell_type": "code",
      "source": [
        "lista_bolsonaro = []\n",
        "\n",
        "for i, tweet in enumerate(sntwitter.TwitterSearchScraper({'bolsonaro'}).get_items()):\n",
        "  if i > maximo_tweets:\n",
        "    break\n",
        "  lista_bolsonaro.append([tweet.date, tweet.id, tweet.content])\n"
      ],
      "metadata": {
        "id": "dXdrxATGf__h"
      },
      "execution_count": 17,
      "outputs": []
    },
    {
      "cell_type": "code",
      "source": [
        "dataframe_bolsonaro = pd.DataFrame(lista_bolsonaro, columns=['Data_Hora','IdTweet', 'Tweet'])"
      ],
      "metadata": {
        "id": "WJFJVewzgUQQ"
      },
      "execution_count": 19,
      "outputs": []
    },
    {
      "cell_type": "code",
      "source": [
        "dataframe_bolsonaro['Candidato'] = 'bolsonaro'"
      ],
      "metadata": {
        "id": "aahzNNnCgdxX"
      },
      "execution_count": 20,
      "outputs": []
    },
    {
      "cell_type": "markdown",
      "source": [
        "# Ciro"
      ],
      "metadata": {
        "id": "MMpioV9vgwht"
      }
    },
    {
      "cell_type": "code",
      "source": [
        "lista_ciro = []\n",
        "\n",
        "for i, tweet in enumerate(sntwitter.TwitterSearchScraper({'ciro'}).get_items()):\n",
        "  if i > maximo_tweets:\n",
        "    break\n",
        "  lista_ciro.append([tweet.date, tweet.id, tweet.content])\n"
      ],
      "metadata": {
        "id": "N_krb_qEgz6V"
      },
      "execution_count": 21,
      "outputs": []
    },
    {
      "cell_type": "code",
      "source": [
        "dataframe_ciro = pd.DataFrame(lista_ciro, columns=['Data_Hora','IdTweet', 'Tweet'])"
      ],
      "metadata": {
        "id": "OvmsHEBQg8Sx"
      },
      "execution_count": 22,
      "outputs": []
    },
    {
      "cell_type": "code",
      "source": [
        "dataframe_ciro['Candidato'] = 'ciro'"
      ],
      "metadata": {
        "id": "vX-58E78g9k4"
      },
      "execution_count": 23,
      "outputs": []
    },
    {
      "cell_type": "markdown",
      "source": [
        "# Juntando os 3 dataframes"
      ],
      "metadata": {
        "id": "JS_QebHjhcl6"
      }
    },
    {
      "cell_type": "code",
      "source": [
        "dataframe_final = pd.concat([dataframe_lula, dataframe_bolsonaro, dataframe_ciro], axis=0)"
      ],
      "metadata": {
        "id": "xZdXrZBrhbqm"
      },
      "execution_count": 25,
      "outputs": []
    },
    {
      "cell_type": "code",
      "source": [
        "# ver os itens que tem em uma coluna\n",
        "dataframe_final['Candidato'].unique()"
      ],
      "metadata": {
        "colab": {
          "base_uri": "https://localhost:8080/"
        },
        "id": "UZF_soeQiGV1",
        "outputId": "57d7ff21-6e9d-486d-a3db-8701434e2d81"
      },
      "execution_count": 27,
      "outputs": [
        {
          "output_type": "execute_result",
          "data": {
            "text/plain": [
              "array(['Lula', 'bolsonaro', 'ciro'], dtype=object)"
            ]
          },
          "metadata": {},
          "execution_count": 27
        }
      ]
    },
    {
      "cell_type": "code",
      "source": [
        "dataframe_final.to_csv('dataframe_final.csv', sep=',', index=False)"
      ],
      "metadata": {
        "id": "7_LFGduOiVF-"
      },
      "execution_count": 29,
      "outputs": []
    }
  ]
}