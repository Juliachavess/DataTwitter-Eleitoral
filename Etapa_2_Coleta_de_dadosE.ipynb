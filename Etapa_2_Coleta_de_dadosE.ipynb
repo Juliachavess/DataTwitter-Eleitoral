{
  "nbformat": 4,
  "nbformat_minor": 0,
  "metadata": {
    "colab": {
      "name": "Etapa 2 - Coleta de dadosE.ipynb",
      "provenance": [],
      "authorship_tag": "ABX9TyM89yWDsB5prF9oqMHdLaTF",
      "include_colab_link": true
    },
    "kernelspec": {
      "name": "python3",
      "display_name": "Python 3"
    },
    "language_info": {
      "name": "python"
    }
  },
  "cells": [
    {
      "cell_type": "markdown",
      "metadata": {
        "id": "view-in-github",
        "colab_type": "text"
      },
      "source": [
        "<a href=\"https://colab.research.google.com/github/Juliachavess/DataTwitter-Eleitoral/blob/main/Etapa_2_Coleta_de_dadosE.ipynb\" target=\"_parent\"><img src=\"https://colab.research.google.com/assets/colab-badge.svg\" alt=\"Open In Colab\"/></a>"
      ]
    },
    {
      "cell_type": "markdown",
      "source": [
        "# Apresentação do projeto"
      ],
      "metadata": {
        "id": "LSOokRMurbcb"
      }
    },
    {
      "cell_type": "code",
      "execution_count": null,
      "metadata": {
        "id": "QhOPru9rIv8Z"
      },
      "outputs": [],
      "source": [
        ""
      ]
    }
  ]
}